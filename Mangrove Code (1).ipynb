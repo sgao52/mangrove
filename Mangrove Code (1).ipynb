{
 "cells": [
  {
   "cell_type": "code",
   "execution_count": 16,
   "id": "b5522540",
   "metadata": {},
   "outputs": [],
   "source": [
    "import ee\n",
    "import geemap\n",
    "import os\n",
    "import csv"
   ]
  },
  {
   "cell_type": "code",
   "execution_count": 17,
   "id": "a6edfebf",
   "metadata": {
    "scrolled": true
   },
   "outputs": [
    {
     "data": {
      "application/vnd.jupyter.widget-view+json": {
       "model_id": "44a39ab4cc774af3afcb6c72d6a16fc6",
       "version_major": 2,
       "version_minor": 0
      },
      "text/plain": [
       "Map(center=[20, 0], controls=(WidgetControl(options=['position', 'transparent_bg'], widget=HBox(children=(Togg…"
      ]
     },
     "metadata": {},
     "output_type": "display_data"
    }
   ],
   "source": [
    "Map =geemap.Map()\n",
    "Map\n"
   ]
  },
  {
   "cell_type": "code",
   "execution_count": 18,
   "id": "8935e68d",
   "metadata": {},
   "outputs": [],
   "source": [
    "# imput edited mangrove 2018 field data\n",
    "fieldData = r'C:\\Users\\sgao5\\Downloads\\OutputData\\OutputData\\MangroveHainan18Fielddata.shp'\n",
    "# fieldData = geemap.shp_to_ee(fieldData)\n",
    "# Map.addLayer(fieldData,{},'Mangrove Field data 2018')\n",
    "\n",
    "# add mangrove core area\n",
    "# corearea = r'C:\\Users\\sgao5\\Downloads\\OutputData\\OutputData\\CoreArea.shp'\n",
    "# corearea = geemap.shp_to_ee(corearea)\n",
    "# add Hainan province rectangle 111.087E, 18.122N. 108.455E, 20.076N\n",
    "Hainan = ee.Geometry.Rectangle([111.087, 18.122, 108.455, 20.15])\n",
    "\n",
    "# to mask clouds based on the pixel_qa band of Landsat 8 SR data \n",
    "def maskL8sr(image):\n",
    "   #Bits 3 and 5 are cloud shadow and cloud, respectively.\n",
    "  cloudShadowBitMask = (1 << 3)\n",
    "  cloudsBitMask = (1 << 5)\n",
    "  # Get the pixel QA band.\n",
    "  qa = image.select('pixel_qa')\n",
    "  # Both flags should be set to zero, indicating clear conditions.\n",
    "  mask = qa.bitwiseAnd(cloudShadowBitMask).eq(0) \\\n",
    "                 .And(qa.bitwiseAnd(cloudsBitMask).eq(0))\n",
    "  return image.updateMask(mask)\n",
    "\n",
    "# define image as landsat 8 SR dataset from May to August # Why use SR?\n",
    "image = (ee.ImageCollection('LANDSAT/LC08/C01/T1_SR') \\\n",
    "    .filterBounds(Hainan) \\\n",
    "    .filterDate('2018-05-01', '2018-8-31') \\\n",
    "    .map(maskL8sr)\n",
    "    .median()) # 加括号\n",
    "    #.filterMetadata('CLOUD_COVER_LAND', 'less_than', 50)\n",
    "#composite = ee.Algorithms.Landsat.simpleComposite({\n",
    "    #'collection': image,\n",
    "    #'asFloat':True\n",
    "#})\n",
    "vispm = {\n",
    "    'bands':['B5','B4','B3'],\n",
    "    'min':0,\n",
    "    'max':3000,\n",
    "    'gamma':1.4\n",
    "}\n",
    "Map.addLayer(image, vispm,'Limage')\n",
    "\n",
    "# set bands for prediction\n",
    "bands = ['B1','B2','B3','B4','B5','B6','B7'] # why bring B1 to this list?\n"
   ]
  },
  {
   "cell_type": "code",
   "execution_count": 19,
   "id": "dfa2a8e7",
   "metadata": {},
   "outputs": [],
   "source": [
    "# define training points\n",
    "mangrove_t = r'C:\\Users\\sgao5\\Downloads\\OutputData\\18TVmangrive\\mangrove18T.shp'\n",
    "mangrove_t_shp = geemap.shp_to_ee(mangrove_t)\n",
    "water_t = r'C:\\Users\\sgao5\\Downloads\\Training18Data\\Training18Data\\water18T.shp'\n",
    "water_t_shp = geemap.shp_to_ee(water_t)\n",
    "forest_t = r'C:\\Users\\sgao5\\Downloads\\Training18Data\\Training18Data\\forest18T.shp'\n",
    "forest_t_shp = geemap.shp_to_ee(forest_t)\n",
    "constructionLand_t = r'C:\\Users\\sgao5\\Downloads\\Training18Data\\Training18Data\\construct18T.shp'\n",
    "constructionLand_t_shp = geemap.shp_to_ee(constructionLand_t)\n",
    "cultivatedLand_t = r'C:\\Users\\sgao5\\Downloads\\Training18Data\\Training18Data\\culti18T.shp'\n",
    "cultivatedLand_t_shp = geemap.shp_to_ee(cultivatedLand_t)\n",
    "pond_t = r'C:\\Users\\sgao5\\Downloads\\Training18Data\\Training18Data\\pond18T.shp'\n",
    "pond_t_shp = geemap.shp_to_ee(pond_t)\n",
    "# define validating points\n",
    "mangrove_v = r\"C:\\Users\\sgao5\\Downloads\\OutputData\\18TVmangrive\\mangrove18V.shp\"\n",
    "mangrove_v_shp = geemap.shp_to_ee(mangrove_v)\n",
    "water_v = r\"C:\\Users\\sgao5\\Downloads\\Validation18Data\\Validation18Data\\water18V.shp\"\n",
    "water_v_shp = geemap.shp_to_ee(water_v)\n",
    "forest_v = r\"C:\\Users\\sgao5\\Downloads\\Validation18Data\\Validation18Data\\forest18V.shp\"\n",
    "forest_v_shp = geemap.shp_to_ee(forest_v)\n",
    "constructionLand_v = r\"C:\\Users\\sgao5\\Downloads\\Validation18Data\\Validation18Data\\construct18V.shp\"\n",
    "constructionLand_v_shp = geemap.shp_to_ee(constructionLand_v)\n",
    "cultivatedLand_v = r\"C:\\Users\\sgao5\\Downloads\\Validation18Data\\Validation18Data\\culti18V.shp\"\n",
    "cultivatedLand_v_shp = geemap.shp_to_ee(cultivatedLand_v)\n",
    "pond_v = r\"C:\\Users\\sgao5\\Downloads\\Validation18Data\\Validation18Data\\pond18V.shp\"\n",
    "pond_v_shp = geemap.shp_to_ee(pond_v)\n",
    "# merge points\n",
    "mgt_points = mangrove_t_shp.merge(water_t_shp).merge(forest_t_shp).merge(cultivatedLand_t_shp).merge(pond_t_shp).merge(constructionLand_t_shp)\n",
    "mgv_points = mangrove_v_shp.merge(water_v_shp).merge(forest_v_shp).merge(cultivatedLand_v_shp).merge(pond_v_shp).merge(constructionLand_v_shp)\n",
    "# mgt_points = mangrove_t_shp + water_t_shp + forest_t_shp + cultivatedLand_t_shp + pond_t_shp + constructionLand_t_shp\n",
    "# mgv_points = mangrove_v_shp + water_v_shp + forest_v_shp + cultivatedLand_v_shp + pond_v_shp + constructionLand_v_shp\n",
    "# mgt_points = [ee.Feature(mangrove_t_shp, {'landcover':0}),ee.Feature(water_t_shp, {'landcover':1}), ee.Feature(forest_t_shp, {'landcover':2}), ee.Feature(cultivatedLand_t_shp,{'landcover':3}), ee.Feature(pond_t_shp,{'landcover':4}), ee.Feature(constructionLand_t_shp,{'landcover':5})]\n",
    "# mgt_points = ee.FeatureCollection(mgt_points)\n",
    "# mgv_points = [ee.Feature(mangrove_v_shp, {'landcover':0}),ee.Feature(water_v_shp, {'landcover':1}), ee.Feature(forest_v_shp, {'landcover':2}), ee.Feature(cultivatedLand_v_shp,{'landcover':3}), ee.Feature(pond_v_shp,{'landcover':4}), ee.Feature(constructionLand_v_shp,{'landcover':5})]\n",
    "# mgv_points = ee.FeatureCollection(mgv_points)\n",
    "\n",
    "# Map.addLayer(mgpoints, {}, 'training points', False)"
   ]
  },
  {
   "cell_type": "code",
   "execution_count": 20,
   "id": "4f1655f9",
   "metadata": {},
   "outputs": [
    {
     "name": "stdout",
     "output_type": "stream",
     "text": [
      "{'type': 'Feature', 'geometry': {'type': 'Point', 'coordinates': [110.60401000923413, 19.925015701055482]}, 'id': '1_1_1_1_1_0', 'properties': {'CID': 0, 'Landcover': 1}}\n"
     ]
    }
   ],
   "source": [
    "print(mgt_points.first().getInfo())"
   ]
  },
  {
   "cell_type": "code",
   "execution_count": 21,
   "id": "e4f96433",
   "metadata": {},
   "outputs": [],
   "source": [
    "# landcover label\n",
    "label = 'Landcover'\n",
    "# overlay the points on the imagery to get training\n",
    "training = image.select(bands).sampleRegions(**{\n",
    "    'collection' : mgt_points,\n",
    "    'properties' : [label],\n",
    "    'scale' : 30,\n",
    "})\n",
    "        # deleted .select(bands)\n",
    "validating = image.select(bands).sampleRegions(**{\n",
    "    'collection' : mgv_points,\n",
    "    'properties' : [label],\n",
    "    'scale' : 30,\n",
    "})\n",
    "# Adds a column of deterministic pseudorandom numbers/ split training and varification dataset\n",
    "trainingSample = training.randomColumn()\n",
    "validatingSample = validating.randomColumn()\n",
    "\n",
    "training = trainingSample.filter(ee.Filter.lt('random', 1))\n",
    "validation = validatingSample.filter(ee.Filter.lt('random', 1))"
   ]
  },
  {
   "cell_type": "code",
   "execution_count": 22,
   "id": "60b2382a",
   "metadata": {},
   "outputs": [
    {
     "name": "stdout",
     "output_type": "stream",
     "text": [
      "{'type': 'Feature', 'geometry': None, 'id': '1_1_1_1_1_0_0', 'properties': {'B1': 61.5, 'B2': 113, 'B3': 407.5, 'B4': 187, 'B5': 3791, 'B6': 1082.5, 'B7': 344, 'Landcover': 1, 'random': 0.7150004977851546}}\n"
     ]
    }
   ],
   "source": [
    "# test points\n",
    "\n",
    "print(trainingSample.first().getInfo())"
   ]
  },
  {
   "cell_type": "code",
   "execution_count": 23,
   "id": "fbab9154",
   "metadata": {},
   "outputs": [
    {
     "data": {
      "application/vnd.jupyter.widget-view+json": {
       "model_id": "44a39ab4cc774af3afcb6c72d6a16fc6",
       "version_major": 2,
       "version_minor": 0
      },
      "text/plain": [
       "Map(bottom=754.0, center=[20, 0], controls=(WidgetControl(options=['position', 'transparent_bg'], widget=HBox(…"
      ]
     },
     "metadata": {},
     "output_type": "display_data"
    }
   ],
   "source": [
    "# Train the classifier\n",
    "classifier = ee.Classifier.smileRandomForest(10).train(training, label, bands)\n",
    "\n",
    "# classify the image with the same bands used for training\n",
    "result = image.select(bands).classify(classifier)\n",
    "# display the clusters with given colors\n",
    "vis_params = {\n",
    "    'min' : 1,\n",
    "    'max' : 6,\n",
    "    'palette' :['98ff00','62ffde','0b4a8b','fffff0','0dd66b','ff78d2']}\n",
    "Map.addLayer(result, vis_params, 'classified')\n",
    "Map"
   ]
  },
  {
   "cell_type": "code",
   "execution_count": 24,
   "id": "734d421d",
   "metadata": {},
   "outputs": [
    {
     "name": "stdout",
     "output_type": "stream",
     "text": [
      "layer opacity:\n"
     ]
    },
    {
     "data": {
      "application/vnd.jupyter.widget-view+json": {
       "model_id": "44a39ab4cc774af3afcb6c72d6a16fc6",
       "version_major": 2,
       "version_minor": 0
      },
      "text/plain": [
       "Map(bottom=58830.0, center=[18.890695349102117, -250.39489746093753], controls=(WidgetControl(options=['positi…"
      ]
     },
     "metadata": {},
     "output_type": "display_data"
    }
   ],
   "source": [
    "# add map elements\n",
    "print('layer opacity:')\n",
    "clusterLayer = Map.layers[-1]\n",
    "clusterLayer.interact(opacity = (0,1,0.1))\n",
    "# add legend\n",
    "legend_dict = {\n",
    "    '0 mangrove' : '98ff00',\n",
    "    '1 water' : '62ffde',\n",
    "    '2 forest' : '0b4a8b',\n",
    "    '3 cultivated land' : 'fffff0',\n",
    "    '4 pond' : '0dd66b',\n",
    "    '5 construction land' : 'ff78d2'\n",
    "}\n",
    "Map.add_legend(legend_title = 'Hainan Mangrove Classification', legend_dict = legend_dict)\n",
    "Map"
   ]
  },
  {
   "cell_type": "code",
   "execution_count": 25,
   "id": "ef0711db",
   "metadata": {},
   "outputs": [],
   "source": [
    "# Accuracy assessment\n",
    "trainingAccuracy = classifier.confusionMatrix()\n",
    "# validation dataset\n",
    "validated = validation.classify(classifier)\n",
    "testAccuracy = validated.errorMatrix('landcover', 'classification')"
   ]
  },
  {
   "cell_type": "code",
   "execution_count": 26,
   "id": "6f89c7a2",
   "metadata": {},
   "outputs": [
    {
     "data": {
      "text/plain": [
       "0.9756756756756757"
      ]
     },
     "execution_count": 26,
     "metadata": {},
     "output_type": "execute_result"
    }
   ],
   "source": [
    "trainingAccuracy.accuracy().getInfo()"
   ]
  },
  {
   "cell_type": "code",
   "execution_count": 27,
   "id": "32c0bc2e",
   "metadata": {},
   "outputs": [
    {
     "data": {
      "text/plain": [
       "0.9661985609329147"
      ]
     },
     "execution_count": 27,
     "metadata": {},
     "output_type": "execute_result"
    }
   ],
   "source": [
    "trainingAccuracy.kappa().getInfo()"
   ]
  },
  {
   "cell_type": "code",
   "execution_count": null,
   "id": "b3342be9",
   "metadata": {},
   "outputs": [],
   "source": [
    "# Download confusion matrix\n",
    "out_dir = os.path.join(os.path.expanduser('~'), 'Downloads')\n",
    "training_csv = os.path.join(out_dir, 'train_accuracy.csv')\n",
    "testing_csv = os.path.join(out_dir, 'test_accuracy.csv')\n",
    "with open(training_csv, \"w\", newline=\"\") as f:\n",
    "    writer = csv.writer(f)\n",
    "    writer.writerows(trainingAccuracy.getInfo())\n",
    "with open(testing_csv, \"w\", newline=\"\") as f:\n",
    "    writer = csv.writer(f)\n",
    "    writer.writerows(testAccuracy.getInfo())\n",
    "# reclassify landcover map ?\n",
    "\n",
    "# export the raster\n",
    "# out_file = os.path.join(out_dir, 'mangroveClassification.tif')\n",
    "# geemap.ee_export_image(landcover, filename=out_file, scale=900)"
   ]
  }
 ],
 "metadata": {
  "kernelspec": {
   "display_name": "Python 3 (ipykernel)",
   "language": "python",
   "name": "python3"
  },
  "language_info": {
   "codemirror_mode": {
    "name": "ipython",
    "version": 3
   },
   "file_extension": ".py",
   "mimetype": "text/x-python",
   "name": "python",
   "nbconvert_exporter": "python",
   "pygments_lexer": "ipython3",
   "version": "3.8.12"
  }
 },
 "nbformat": 4,
 "nbformat_minor": 5
}
