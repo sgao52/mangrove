{
 "cells": [
  {
   "cell_type": "code",
   "execution_count": 1,
   "id": "b5522540",
   "metadata": {},
   "outputs": [],
   "source": [
    "import ee\n",
    "import geemap\n",
    "import os\n",
    "import csv"
   ]
  },
  {
   "cell_type": "code",
   "execution_count": 2,
   "id": "a6edfebf",
   "metadata": {
    "scrolled": true
   },
   "outputs": [
    {
     "data": {
      "application/vnd.jupyter.widget-view+json": {
       "model_id": "e8f74f6b43f343c9983f070269c2f069",
       "version_major": 2,
       "version_minor": 0
      },
      "text/plain": [
       "Map(center=[20, 0], controls=(WidgetControl(options=['position', 'transparent_bg'], widget=HBox(children=(Togg…"
      ]
     },
     "metadata": {},
     "output_type": "display_data"
    }
   ],
   "source": [
    "Map =geemap.Map()\n",
    "Map\n"
   ]
  },
  {
   "cell_type": "code",
   "execution_count": 11,
   "id": "8935e68d",
   "metadata": {},
   "outputs": [],
   "source": [
    "# imput edited mangrove 2018 field data\n",
    "fieldData = r'C:\\Users\\sgao5\\Downloads\\OutputData\\OutputData\\MangroveHainan18Fielddata.shp'\n",
    "# fieldData = geemap.shp_to_ee(polygon.shp)\n",
    "# Map.addLayer(fieldData,{},'Mangrove Field data 2018')\n",
    "\n",
    "# add mangrove core area\n",
    "#corearea = '../Mangrove/CoreArea.shp'\n",
    "\n",
    "# add Hainan province rectangle 111.087E, 18.122N. 108.455E, 20.076N\n",
    "Hainan = ee.Geometry.Rectangle([111.087, 18.122, 108.455, 20.076])\n",
    "\n",
    "# to mask clouds based on the pixel_qa band of Landsat 8 SR data \n",
    "def maskL8sr(image):\n",
    "  # Bits 3 and 5 are cloud shadow and cloud, respectively.\n",
    "  cloudShadowBitMask = (1 << 3)\n",
    "  cloudsBitMask = (1 << 5)\n",
    "  # Get the pixel QA band.\n",
    "  qa = image.select('pixel_qa')\n",
    "  # Both flags should be set to zero, indicating clear conditions.\n",
    "  mask = qa.bitwiseAnd(cloudShadowBitMask).eq(0) \\\n",
    "                 .And(qa.bitwiseAnd(cloudsBitMask).eq(0))\n",
    "  return image.updateMask(mask)\n",
    "\n",
    "# define image as landsat 8 SR dataset from May to August # Why use SR?\n",
    "image = ee.ImageCollection('LANDSAT/LC08/C01/T2_SR') \\\n",
    "    .filterBounds(Hainan) \\\n",
    "    .filterDate('2018-05-01', '2018-8-31') \\\n",
    "    .map(maskL8sr)\n",
    "image = image.mean()\n",
    "# set bands for prediction\n",
    "bands = ['B1','B2','B3','B4','B5','B6','B7'] # why bring B1 to this list?\n"
   ]
  },
  {
   "cell_type": "code",
   "execution_count": 15,
   "id": "dfa2a8e7",
   "metadata": {},
   "outputs": [
    {
     "ename": "AttributeError",
     "evalue": "'str' object has no attribute 'merge'",
     "output_type": "error",
     "traceback": [
      "\u001b[1;31m---------------------------------------------------------------------------\u001b[0m",
      "\u001b[1;31mAttributeError\u001b[0m                            Traceback (most recent call last)",
      "Input \u001b[1;32mIn [15]\u001b[0m, in \u001b[0;36m<module>\u001b[1;34m\u001b[0m\n\u001b[0;32m     16\u001b[0m label \u001b[38;5;241m=\u001b[39m \u001b[38;5;124m'\u001b[39m\u001b[38;5;124mlandcover\u001b[39m\u001b[38;5;124m'\u001b[39m\n\u001b[0;32m     17\u001b[0m \u001b[38;5;66;03m# merge points\u001b[39;00m\n\u001b[1;32m---> 18\u001b[0m mgt_points \u001b[38;5;241m=\u001b[39m \u001b[43mmangrove_t\u001b[49m\u001b[38;5;241;43m.\u001b[39;49m\u001b[43mmerge\u001b[49m(water_t)\u001b[38;5;241m.\u001b[39mmerge(forest_t)\u001b[38;5;241m.\u001b[39mmerge(cultivatedLand_t)\u001b[38;5;241m.\u001b[39mmerge(pond_t)\u001b[38;5;241m.\u001b[39mmerge(constructionLand_t)\n\u001b[0;32m     19\u001b[0m mgv_points \u001b[38;5;241m=\u001b[39m mangrove_v\u001b[38;5;241m.\u001b[39mmerge(water_v)\u001b[38;5;241m.\u001b[39mmerge(forest_v)\u001b[38;5;241m.\u001b[39mmerge(cultivatedLand_v)\u001b[38;5;241m.\u001b[39mmerge(pond_v)\u001b[38;5;241m.\u001b[39mmerge(constructionLand_v)\n\u001b[0;32m     20\u001b[0m \u001b[38;5;66;03m# Map.addLayer(mgpoints, {}, 'training points', False)\u001b[39;00m\n",
      "\u001b[1;31mAttributeError\u001b[0m: 'str' object has no attribute 'merge'"
     ]
    }
   ],
   "source": [
    "# define training points\n",
    "mangrove_t = r'C:\\Users\\sgao5\\Downloads\\Training18Data\\Training18Data\\mangrove18T.shp'\n",
    "water_t = r'C:\\Users\\sgao5\\Downloads\\Training18Data\\Training18Data\\water18T'\n",
    "forest_t = r'C:\\Users\\sgao5\\Downloads\\Training18Data\\Training18Data\\forest18T'\n",
    "constructionLand_t = r'C:\\Users\\sgao5\\Downloads\\Training18Data\\Training18Data\\construct18T'\n",
    "cultivatedLand_t = r'C:\\Users\\sgao5\\Downloads\\Training18Data\\Training18Data\\culti18T'\n",
    "pond_t = r'C:\\Users\\sgao5\\Downloads\\Training18Data\\Training18Data\\pond18T'\n",
    "# define validating points\n",
    "mangrove_v = r\"C:\\Users\\sgao5\\Downloads\\Validation18Data\\Validation18Data\\mangrove18V.shp\"\n",
    "water_v = r\"C:\\Users\\sgao5\\Downloads\\Validation18Data\\Validation18Data\\water18V.shp\"\n",
    "forest_v = r\"C:\\Users\\sgao5\\Downloads\\Validation18Data\\Validation18Data\\forest18V.shp\"\n",
    "constructionLand_v = r\"C:\\Users\\sgao5\\Downloads\\Validation18Data\\Validation18Data\\construct18V.shp\"\n",
    "cultivatedLand_v = r\"C:\\Users\\sgao5\\Downloads\\Validation18Data\\Validation18Data\\culti18V.shp\"\n",
    "pond_v = r\"C:\\Users\\sgao5\\Downloads\\Validation18Data\\Validation18Data\\pond18V.shp\"\n",
    "# landcover label *\n",
    "label = 'landcover'\n",
    "# merge points\n",
    "mgt_points = mangrove_t.merge(water_t).merge(forest_t).merge(cultivatedLand_t).merge(pond_t).merge(constructionLand_t)\n",
    "mgv_points = mangrove_v.merge(water_v).merge(forest_v).merge(cultivatedLand_v).merge(pond_v).merge(constructionLand_v)\n",
    "# Map.addLayer(mgpoints, {}, 'training points', False)\n",
    "print(mgt_points, 'mgtpoints')\n",
    "print(mgv_points, 'mgvpoints')"
   ]
  },
  {
   "cell_type": "code",
   "execution_count": null,
   "id": "e4f96433",
   "metadata": {},
   "outputs": [],
   "source": [
    "# overlay the points on the imagery to get training\n",
    "training = image.select(bands).sampleRegions(**{\n",
    "    'collection' : mgt_points,\n",
    "    'scale' : 30,\n",
    "    'properties' : 'landcover',\n",
    "    'projection' : 32649\n",
    "})\n",
    "\n",
    "validating = image.select(bands).sampleRegions(**{\n",
    "    'collection' : mgv_points,\n",
    "    'scale' : 30,\n",
    "    'properties' : 'landcover'\n",
    "    'projection' : 32649\n",
    "})\n",
    "# Adds a column of deterministic pseudorandom numbers/ split training and varification dataset\n",
    "trainingSample = training.randomColumn()\n",
    "validatingSample = validating.randomColumn()\n",
    "\n",
    "training = trainingSample.filter(ee.Filter.lt('random', 1))\n",
    "validation = validatingSample.filter(ee.Filter.lt('random', 1))"
   ]
  },
  {
   "cell_type": "code",
   "execution_count": null,
   "id": "fbab9154",
   "metadata": {},
   "outputs": [],
   "source": [
    "# Train the classifier\n",
    "classifier = ee.Classifier.smileRandomForest(10).train(training, label, bands)\n",
    "\n",
    "# classify the image with the same bands used for training\n",
    "result = image.select(bands).classify(classifier)\n",
    "# display the clusters with given colors\n",
    "vis_params = {\n",
    "    'min' : 1,\n",
    "    'max' : 6,\n",
    "    'palette' :['98ff00','62ffde','0b4a8b','fffff0','0dd66b','ff78d2']\n",
    "}\n",
    "Map.addLayer(result, vis_params, 'classified')\n"
   ]
  },
  {
   "cell_type": "code",
   "execution_count": null,
   "id": "734d421d",
   "metadata": {},
   "outputs": [],
   "source": [
    "# add map elements\n",
    "print('layer opacity:')\n",
    "clusterLayer = Map.layers[-1]\n",
    "clusterLayer.interact(opacity = (0,1,0.1))\n",
    "# add legend\n",
    "legend_dict = {\n",
    "    '1 mangrove' : '98ff00',\n",
    "    '2 water' : '62ffde',\n",
    "    '3 forest' : '0b4a8b',\n",
    "    '4 cultivated land' : 'fffff0',\n",
    "    '5 pond' : '0dd66b',\n",
    "    '6 construction land' : 'ff78d2'\n",
    "}\n",
    "Map.add_legend(legend_title = 'Hainan Mangrove Classification', legend_dict = legend_dict)\n",
    "Map"
   ]
  },
  {
   "cell_type": "code",
   "execution_count": null,
   "id": "ef0711db",
   "metadata": {},
   "outputs": [],
   "source": [
    "# Accuracy assessment\n",
    "trainingAccuracy = classifier.confusionMatrix()\n",
    "# validation dataset\n",
    "validated = validation.classify(classifier)\n",
    "testAccuracy = validated.errorMatrix('landcover', 'classification')"
   ]
  },
  {
   "cell_type": "code",
   "execution_count": null,
   "id": "b3342be9",
   "metadata": {},
   "outputs": [],
   "source": [
    "# Download confusion matrix\n",
    "out_dir = os.path.join(os.path.expanduser('~'), 'Downloads')\n",
    "training_csv = os.path.join(out_dir, 'train_accuracy.csv')\n",
    "testing_csv = os.path.join(out_dir, 'test_accuracy.csv')\n",
    "with open(training_csv, \"w\", newline=\"\") as f:\n",
    "    writer = csv.writer(f)\n",
    "    writer.writerows(trainingAccuracy.getInfo())\n",
    "with open(testing_csv, \"w\", newline=\"\") as f:\n",
    "    writer = csv.writer(f)\n",
    "    writer.writerows(testAccuracy.getInfo())\n",
    "# reclassify landcover map ?\n",
    "\n",
    "# export the raster\n",
    "# out_file = os.path.join(out_dir, 'mangroveClassification.tif')\n",
    "# geemap.ee_export_image(landcover, filename=out_file, scale=900)"
   ]
  }
 ],
 "metadata": {
  "kernelspec": {
   "display_name": "Python 3 (ipykernel)",
   "language": "python",
   "name": "python3"
  },
  "language_info": {
   "codemirror_mode": {
    "name": "ipython",
    "version": 3
   },
   "file_extension": ".py",
   "mimetype": "text/x-python",
   "name": "python",
   "nbconvert_exporter": "python",
   "pygments_lexer": "ipython3",
   "version": "3.8.12"
  }
 },
 "nbformat": 4,
 "nbformat_minor": 5
}
